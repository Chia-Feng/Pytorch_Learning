{
 "cells": [
  {
   "cell_type": "code",
   "execution_count": 1,
   "metadata": {},
   "outputs": [],
   "source": [
    "import torchvision, torch"
   ]
  },
  {
   "cell_type": "markdown",
   "metadata": {},
   "source": [
    "input the model from online"
   ]
  },
  {
   "cell_type": "code",
   "execution_count": 2,
   "metadata": {},
   "outputs": [],
   "source": [
    "vgg16 = torchvision.models.vgg16(pretrained=False)"
   ]
  },
  {
   "cell_type": "markdown",
   "metadata": {},
   "source": [
    "Save Model and Load Model"
   ]
  },
  {
   "cell_type": "code",
   "execution_count": 5,
   "metadata": {},
   "outputs": [],
   "source": [
    "############# Method 1 ###########################\n",
    "torch.save(vgg16, \"vgg16_method1.pth\")\n",
    "# this not only save the model structure, but also save the parameters \n",
    "vgg16_1 = torch.load(\"vgg16_method1.pth\")\n",
    "\n",
    "\n",
    "############# Method 2 ###########################\n",
    "torch.save(vgg16.state_dict(), \"vgg16_method2.pth\")\n",
    "# only save the parameters, this method create a smaller file. SUGGEST THIS METHOD.\n",
    "vgg16_2 = torch.load(\"vgg16_method2.pth\") \n",
    "# load \"parameter\" to vgg16_2\n",
    "vgg16.load_state_dict(vgg16_2)\n",
    "# load \"parameter\" to model\n",
    "\n",
    "\n",
    "\n",
    "\n"
   ]
  }
 ],
 "metadata": {
  "interpreter": {
   "hash": "5bdb8ac3f2d9547dea6fa3bfa2ee8baa04424e0c758556039bba6af79e1d77ff"
  },
  "kernelspec": {
   "display_name": "Python 3.6.13 ('pytorch')",
   "language": "python",
   "name": "python3"
  },
  "language_info": {
   "codemirror_mode": {
    "name": "ipython",
    "version": 3
   },
   "file_extension": ".py",
   "mimetype": "text/x-python",
   "name": "python",
   "nbconvert_exporter": "python",
   "pygments_lexer": "ipython3",
   "version": "3.6.13"
  },
  "orig_nbformat": 4
 },
 "nbformat": 4,
 "nbformat_minor": 2
}
