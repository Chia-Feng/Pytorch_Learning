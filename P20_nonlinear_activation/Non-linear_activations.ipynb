{
 "cells": [
  {
   "cell_type": "markdown",
   "metadata": {},
   "source": [
    "https://pytorch.org/docs/stable/nn.html <br>\n",
    "Non-linear_activation = Non-linear filter for transforming the original data to be a filtered form, e.g. can filter out noise.<br>\n",
    "See e.g. https://pytorch.org/docs/stable/generated/torch.nn.ReLU.html#torch.nn.ReLU"
   ]
  },
  {
   "cell_type": "code",
   "execution_count": 25,
   "metadata": {},
   "outputs": [],
   "source": [
    "import torch, torchvision\n",
    "from torch import nn\n",
    "from torch.nn import ReLU, Sigmoid\n",
    "from torch.utils.data import DataLoader\n",
    "from IPython.display import display\n",
    "from torch.utils.tensorboard import SummaryWriter"
   ]
  },
  {
   "cell_type": "code",
   "execution_count": 20,
   "metadata": {},
   "outputs": [
    {
     "name": "stdout",
     "output_type": "stream",
     "text": [
      "torch.Size([1, 1, 2, 2])\n"
     ]
    }
   ],
   "source": [
    "input = torch.tensor([[1,-0.5],[-1,3]])\n",
    "output = torch.reshape(input, (-1, 1, 2, 2))   # -1 means that this value will be calculated automatically by according to other parameters\n",
    "                            #  batch, channel, dimension_x, dimension_y\n",
    "print(output.shape)"
   ]
  },
  {
   "cell_type": "code",
   "execution_count": 21,
   "metadata": {},
   "outputs": [],
   "source": [
    "class NLA(nn.Module):\n",
    "    def __init__(self):\n",
    "        super(NLA,self).__init__()\n",
    "        self.relu1 = ReLU()  # implace = whether we modify the original data\n",
    "        self.sigmoid1 = Sigmoid()\n",
    "        \n",
    "    def forward(self, input):\n",
    "        output0 = self.relu1(input)\n",
    "        output = self.sigmoid1(output0)\n",
    "        return output"
   ]
  },
  {
   "cell_type": "code",
   "execution_count": 22,
   "metadata": {},
   "outputs": [
    {
     "name": "stdout",
     "output_type": "stream",
     "text": [
      "tensor([[0.7311, 0.5000],\n",
      "        [0.5000, 0.9526]])\n"
     ]
    }
   ],
   "source": [
    "nla=NLA()\n",
    "output = nla(input)\n",
    "print(output)"
   ]
  },
  {
   "cell_type": "markdown",
   "metadata": {},
   "source": [
    "Apply to a dataset as an example"
   ]
  },
  {
   "cell_type": "code",
   "execution_count": 23,
   "metadata": {},
   "outputs": [
    {
     "name": "stdout",
     "output_type": "stream",
     "text": [
      "Files already downloaded and verified\n"
     ]
    }
   ],
   "source": [
    "dataset = torchvision.datasets.CIFAR10(\"..\\P15_DataLoader\\dataset\", train=False, download=True, transform=torchvision.transforms.ToTensor())\n",
    "dataloader = DataLoader(dataset, batch_size = 16)"
   ]
  },
  {
   "cell_type": "code",
   "execution_count": 24,
   "metadata": {},
   "outputs": [
    {
     "data": {
      "image/png": "[encoded data removed]",
      "text/plain": [
       "<PIL.Image.Image image mode=RGB size=32x32 at 0x243A00ACF60>"
      ]
     },
     "metadata": {},
     "output_type": "display_data"
    },
    {
     "data": {
      "image/png": "[encoded data removed]",
      "text/plain": [
       "<PIL.Image.Image image mode=RGB size=32x32 at 0x243A00AC080>"
      ]
     },
     "metadata": {},
     "output_type": "display_data"
    }
   ],
   "source": [
    "display(torchvision.transforms.ToPILImage()(list(dataloader)[0][0][0]))\n",
    "nla=NLA()\n",
    "output = nla(list(dataloader)[0][0][0])\n",
    "display(torchvision.transforms.ToPILImage()(output))"
   ]
  },
  {
   "cell_type": "markdown",
   "metadata": {},
   "source": [
    "upload images to tensorborad<br>\n",
    "then type ' tensorboard --logdir=\"logs\" ' in terminal to see the result. "
   ]
  },
  {
   "cell_type": "code",
   "execution_count": 27,
   "metadata": {},
   "outputs": [],
   "source": [
    "writer = SummaryWriter(\"logs\")\n",
    "\n",
    "step = 0\n",
    "for data in dataloader:\n",
    "    image, target = data\n",
    "    writer.add_images(\"Non-linear_activations_original\", image, step)\n",
    "    writer.add_images(\"Non-linear_activations_modified\", nla(image), step)\n",
    "    step += 1\n",
    "    \n",
    "writer.close()\n",
    "    "
   ]
  }
 ],
 "metadata": {
  "interpreter": {
   "hash": "5bdb8ac3f2d9547dea6fa3bfa2ee8baa04424e0c758556039bba6af79e1d77ff"
  },
  "kernelspec": {
   "display_name": "Python 3.6.13 ('pytorch')",
   "language": "python",
   "name": "python3"
  },
  "language_info": {
   "codemirror_mode": {
    "name": "ipython",
    "version": 3
   },
   "file_extension": ".py",
   "mimetype": "text/x-python",
   "name": "python",
   "nbconvert_exporter": "python",
   "pygments_lexer": "ipython3",
   "version": "3.6.13"
  },
  "orig_nbformat": 4
 },
 "nbformat": 4,
 "nbformat_minor": 2
}
