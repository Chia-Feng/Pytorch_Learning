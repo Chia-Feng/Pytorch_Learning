{
 "cells": [
  {
   "cell_type": "markdown",
   "metadata": {},
   "source": [
    "Libery: https://pytorch.org/docs/stable/nn.html<br>\n",
    "\n",
    "This notebook is an example for nn.Module and Convolution Layers"
   ]
  },
  {
   "cell_type": "code",
   "execution_count": 1,
   "metadata": {},
   "outputs": [],
   "source": [
    "import torch, torchvision\n",
    "from torch import nn\n",
    "from torch.utils.tensorboard import SummaryWriter\n",
    "from torch.nn import Conv2d\n",
    "import torch.nn.functional as F\n",
    "from torch.utils.data import DataLoader\n"
   ]
  },
  {
   "cell_type": "code",
   "execution_count": 2,
   "metadata": {},
   "outputs": [],
   "source": [
    "class NNetwork(nn.Module):\n",
    "    def __init__(self):\n",
    "        super().__init__()                          # run the __init__() function in nn.Module\n",
    "        self.conv1 = Conv2d(in_channels=3, out_channels=6, kernel_size=3, stride=1, padding=0)                               \n",
    "        # use self. = define a variable which can be used in anywhere\n",
    "        # Note that where out_channels = 6 cannot be represented in tensorboard, we will reshape it later.\n",
    "        \n",
    "    def forward(self, input):\n",
    "        input = self.conv1(input)\n",
    "        return input"
   ]
  },
  {
   "cell_type": "markdown",
   "metadata": {},
   "source": [
    "Convolution Layer explanation : https://github.com/vdumoulin/conv_arithmetic/blob/master/README.md <br>\n",
    "Nice explanation in Chinese: https://www.youtube.com/watch?v=RrqOOIIfRSU&list=PLgAyVnrNJ96CqYdjZ8v9YjQvCBcK5PZ-V&index=17 <br>\n",
    "https://www.youtube.com/watch?v=1_bwX0shTd8&list=PLgAyVnrNJ96CqYdjZ8v9YjQvCBcK5PZ-V&index=18"
   ]
  },
  {
   "cell_type": "code",
   "execution_count": 5,
   "metadata": {},
   "outputs": [
    {
     "name": "stdout",
     "output_type": "stream",
     "text": [
      "tensor([[[[ 1.,  3.,  4., 10.,  8.],\n",
      "          [ 5., 10., 12., 12.,  6.],\n",
      "          [ 7., 18., 16., 16.,  8.],\n",
      "          [11., 13.,  9.,  3.,  4.],\n",
      "          [14., 13.,  9.,  7.,  4.]]]])\n"
     ]
    }
   ],
   "source": [
    "input = torch.tensor(\n",
    "    [\n",
    "        [1, 2, 0, 3, 1],\n",
    "        [0, 1, 2, 3, 1],\n",
    "        [1, 2, 1, 0, 0],\n",
    "        [5, 2, 3, 1, 1],\n",
    "        [2, 1, 0, 1, 1]\n",
    "    ], dtype = torch.float32\n",
    ")\n",
    "\n",
    "kernel = torch.tensor([[1,2,1],[0,1,0],[2,1,0]], dtype = torch.float32)\n",
    "\n",
    "input = torch.reshape(input, (1,1,5,5))    ## first and second 1 in (1,1,5,5) see the shape in https://pytorch.org/docs/stable/generated/torch.nn.Conv2d.html#torch.nn.Conv2d\n",
    "kernel = torch.reshape(kernel, (1,1,3,3))\n",
    "\n",
    "output = F.conv2d(input, kernel, stride=1, padding=1)  ## make a convolute on a 2d data and outputing another 2d data.\n",
    "print(output)"
   ]
  },
  {
   "cell_type": "markdown",
   "metadata": {},
   "source": [
    "Apply the techology to a mock data\n"
   ]
  },
  {
   "cell_type": "code",
   "execution_count": 3,
   "metadata": {},
   "outputs": [
    {
     "name": "stdout",
     "output_type": "stream",
     "text": [
      "Files already downloaded and verified\n"
     ]
    }
   ],
   "source": [
    "# import data\n",
    "dataset = torchvision.datasets.CIFAR10(\"../P15_DataLoader/dataset\", train=False, download=True, transform=torchvision.transforms.ToTensor()) \n",
    "# pack every 64 images to be a batch\n",
    "data_loader = DataLoader(dataset, batch_size=64)"
   ]
  },
  {
   "cell_type": "code",
   "execution_count": 5,
   "metadata": {},
   "outputs": [],
   "source": [
    "writer = SummaryWriter(\"logs\")\n",
    "step = 0\n",
    "for data in data_loader:\n",
    "    img, target = data\n",
    "    img_out = NNetwork()(img)\n",
    "    img_out_reshape = torch.reshape(img_out,(-1,3,30,30))   \n",
    "    # where -1 means that we don't know what value should be, the system will automatically fill it in according the other values, i.e. 3,30,30\n",
    "    writer.add_images(\"TorchNN_input\", img, step)\n",
    "    writer.add_images(\"TorchNN_output\", img_out_reshape, step)\n",
    "    step += 1 \n",
    "\n",
    "writer.close()\n",
    "    "
   ]
  }
 ],
 "metadata": {
  "interpreter": {
   "hash": "5bdb8ac3f2d9547dea6fa3bfa2ee8baa04424e0c758556039bba6af79e1d77ff"
  },
  "kernelspec": {
   "display_name": "Python 3.6.13 ('pytorch')",
   "language": "python",
   "name": "python3"
  },
  "language_info": {
   "codemirror_mode": {
    "name": "ipython",
    "version": 3
   },
   "file_extension": ".py",
   "mimetype": "text/x-python",
   "name": "python",
   "nbconvert_exporter": "python",
   "pygments_lexer": "ipython3",
   "version": "3.6.13"
  },
  "orig_nbformat": 4
 },
 "nbformat": 4,
 "nbformat_minor": 2
}
