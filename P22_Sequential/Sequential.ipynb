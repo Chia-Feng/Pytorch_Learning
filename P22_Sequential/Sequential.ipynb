{
 "cells": [
  {
   "cell_type": "markdown",
   "metadata": {},
   "source": [
    "https://pytorch.org/docs/stable/generated/torch.nn.Sequential.html?highlight=sequential#torch.nn.Sequential <br>\n",
    "This code is a simple example for Sequential and how to apply a model for trainning\n"
   ]
  },
  {
   "cell_type": "code",
   "execution_count": 27,
   "metadata": {},
   "outputs": [],
   "source": [
    "import torch, torchvision\n",
    "from torch import nn\n",
    "from torch.nn import Conv2d, MaxPool2d, Flatten, Linear, Sequential\n",
    "from IPython.display import display, Image"
   ]
  },
  {
   "cell_type": "markdown",
   "metadata": {},
   "source": [
    "Use the model.png and the formula in https://pytorch.org/docs/stable/generated/torch.nn.Conv2d.html?highlight=conv#torch.nn.Conv2d <br>\n",
    "to calculate padding and stride parameter\n",
    "![title](Model.png)\n",
    "![title](Convolution_formula.png)"
   ]
  },
  {
   "cell_type": "code",
   "execution_count": 30,
   "metadata": {},
   "outputs": [],
   "source": [
    "class CIFAR10model(nn.Module):\n",
    "    def __init__(self):\n",
    "        super(CIFAR10model, self).__init__()\n",
    "        self.model1 = Sequential(\n",
    "          Conv2d(3, 32, 5, padding=2),\n",
    "          MaxPool2d(2),\n",
    "          Conv2d(32,32,5, padding=2),\n",
    "          MaxPool2d(2),\n",
    "          Conv2d(32,64,5, padding=2),\n",
    "          MaxPool2d(2),\n",
    "          Flatten(),\n",
    "          Linear(1024,64),             # be careful, the last step is linearing 1024 data to 64 then linear to 10\n",
    "          Linear(64,10)\n",
    "        )\n",
    "\n",
    "    def forward(self, input):\n",
    "        output1 = self.model1(input)\n",
    "        return output1\n",
    "  \n",
    "Train1 = CIFAR10model()"
   ]
  },
  {
   "cell_type": "code",
   "execution_count": 31,
   "metadata": {},
   "outputs": [
    {
     "name": "stdout",
     "output_type": "stream",
     "text": [
      "CIFAR10model(\n",
      "  (model1): Sequential(\n",
      "    (0): Conv2d(3, 32, kernel_size=(5, 5), stride=(1, 1), padding=(2, 2))\n",
      "    (1): MaxPool2d(kernel_size=2, stride=2, padding=0, dilation=1, ceil_mode=False)\n",
      "    (2): Conv2d(32, 32, kernel_size=(5, 5), stride=(1, 1), padding=(2, 2))\n",
      "    (3): MaxPool2d(kernel_size=2, stride=2, padding=0, dilation=1, ceil_mode=False)\n",
      "    (4): Conv2d(32, 64, kernel_size=(5, 5), stride=(1, 1), padding=(2, 2))\n",
      "    (5): MaxPool2d(kernel_size=2, stride=2, padding=0, dilation=1, ceil_mode=False)\n",
      "    (6): Flatten(start_dim=1, end_dim=-1)\n",
      "    (7): Linear(in_features=1024, out_features=64, bias=True)\n",
      "    (8): Linear(in_features=64, out_features=10, bias=True)\n",
      "  )\n",
      ")\n",
      "torch.Size([1, 10])\n"
     ]
    }
   ],
   "source": [
    "print(Train1)\n",
    "mock_data = torch.rand((1, 3, 32, 32))\n",
    "Result = Train1(mock_data)\n",
    "print(Result.shape)"
   ]
  }
 ],
 "metadata": {
  "interpreter": {
   "hash": "5bdb8ac3f2d9547dea6fa3bfa2ee8baa04424e0c758556039bba6af79e1d77ff"
  },
  "kernelspec": {
   "display_name": "Python 3.6.13 ('pytorch')",
   "language": "python",
   "name": "python3"
  },
  "language_info": {
   "codemirror_mode": {
    "name": "ipython",
    "version": 3
   },
   "file_extension": ".py",
   "mimetype": "text/x-python",
   "name": "python",
   "nbconvert_exporter": "python",
   "pygments_lexer": "ipython3",
   "version": "3.6.13"
  },
  "orig_nbformat": 4
 },
 "nbformat": 4,
 "nbformat_minor": 2
}
