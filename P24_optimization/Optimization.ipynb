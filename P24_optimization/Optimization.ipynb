{
 "cells": [
  {
   "cell_type": "code",
   "execution_count": 1,
   "metadata": {},
   "outputs": [],
   "source": [
    "%matplotlib inline\n",
    "import torch, torchvision\n",
    "from torch import nn\n",
    "from torch.utils.data import DataLoader\n",
    "from torch.nn import Conv2d, MaxPool2d, Flatten, Linear, Sequential\n",
    "from IPython.display import display, Image\n",
    "import matplotlib.pyplot as plt"
   ]
  },
  {
   "cell_type": "code",
   "execution_count": 2,
   "metadata": {},
   "outputs": [
    {
     "name": "stdout",
     "output_type": "stream",
     "text": [
      "Files already downloaded and verified\n"
     ]
    }
   ],
   "source": [
    "dataset = torchvision.datasets.CIFAR10(\"..\\P15_DataLoader\\dataset\", train=False, download=True, transform=torchvision.transforms.ToTensor())\n",
    "dataloader = DataLoader(dataset, batch_size = 16)"
   ]
  },
  {
   "cell_type": "markdown",
   "metadata": {},
   "source": [
    "Write a Learning Model: The convolution's kernel matrix, MasPools's matrix, and linear transformation's parameters are the MODEL PARAMETER! Those would be optimilized by trainning process."
   ]
  },
  {
   "cell_type": "code",
   "execution_count": 3,
   "metadata": {},
   "outputs": [],
   "source": [
    "class CIFAR10model(nn.Module):\n",
    "    def __init__(self):\n",
    "        super(CIFAR10model, self).__init__()\n",
    "        self.model1 = Sequential(\n",
    "          Conv2d(3, 32, 5, padding=2),\n",
    "          MaxPool2d(2),\n",
    "          Conv2d(32,32,5, padding=2),\n",
    "          MaxPool2d(2),\n",
    "          Conv2d(32,64,5, padding=2),\n",
    "          MaxPool2d(2),\n",
    "          Flatten(),\n",
    "          Linear(1024,64),             # be careful, the last step is linearing 1024 data to 64 then linear to 10\n",
    "          Linear(64,10)\n",
    "        )\n",
    "\n",
    "    def forward(self, input):\n",
    "        output1 = self.model1(input)\n",
    "        return output1\n",
    "  \n",
    "Train1 = CIFAR10model()"
   ]
  },
  {
   "cell_type": "markdown",
   "metadata": {},
   "source": [
    "Set up:"
   ]
  },
  {
   "cell_type": "code",
   "execution_count": 4,
   "metadata": {},
   "outputs": [],
   "source": [
    "loss = nn.CrossEntropyLoss()                            # pick up a loss function\n",
    "Cmodel = CIFAR10model()                                 # pick up a model\n",
    "optim = torch.optim.SGD(Cmodel.parameters(), lr=0.01,)  # pick up a trainning method with inputting model's parameters\n",
    "                                                        # lr = Learning Rate\n",
    "                                                        # high lr = faster, but lower accuracy\n",
    "                                                        # can use StepLR to modify lr during trainning\n",
    "\n",
    "x_coordinate = []    # create a list for storing number of step \n",
    "y_coordinate = []    # create a list for storing loss function for each step\n",
    "step = 0             # first step is marked as zero"
   ]
  },
  {
   "cell_type": "markdown",
   "metadata": {},
   "source": [
    "Machine Learning Process:"
   ]
  },
  {
   "cell_type": "code",
   "execution_count": 8,
   "metadata": {},
   "outputs": [],
   "source": [
    "for epoch in range(5):                   # run the trainning by 5 times\n",
    "    for data in dataloader:\n",
    "        imgs, targets = data                   # load data\n",
    "        outputs = Cmodel(imgs)                 # send img to model\n",
    "        result_loss = loss(outputs, targets)   # calculate loss function\n",
    "        optim.zero_grad()                   # clear the current gradient values\n",
    "        result_loss.backward()              # record gradient values (to somewhere)\n",
    "        optim.step()                        # use those gradient values to calculate better model parameters\n",
    "        #print(result_loss)\n",
    "        x_coordinate.append(step)                   # record step number mark\n",
    "        step += 1\n",
    "        y_coordinate.append(result_loss.tolist())   # record the loss function for each step"
   ]
  },
  {
   "cell_type": "code",
   "execution_count": 10,
   "metadata": {},
   "outputs": [
    {
     "name": "stdout",
     "output_type": "stream",
     "text": [
      "tensor(1.2847, grad_fn=<NllLossBackward0>)\n",
      "1.2847281694412231\n"
     ]
    }
   ],
   "source": [
    "print(result_loss)\n",
    "print(result_loss.tolist())  # Use tolist() to read loss function"
   ]
  },
  {
   "cell_type": "code",
   "execution_count": 9,
   "metadata": {},
   "outputs": [
    {
     "data": {
      "image/png": "[encoded data removed]",
      "text/plain": [
       "<Figure size 432x288 with 1 Axes>"
      ]
     },
     "metadata": {
      "needs_background": "light"
     },
     "output_type": "display_data"
    }
   ],
   "source": [
    "plt.scatter(x_coordinate, y_coordinate)\n",
    "plt.xlabel('step', fontsize=16)\n",
    "plt.ylabel('Loss Function', fontsize=16)\n",
    "plt.show()"
   ]
  }
 ],
 "metadata": {
  "interpreter": {
   "hash": "5bdb8ac3f2d9547dea6fa3bfa2ee8baa04424e0c758556039bba6af79e1d77ff"
  },
  "kernelspec": {
   "display_name": "Python 3.6.13 ('pytorch')",
   "language": "python",
   "name": "python3"
  },
  "language_info": {
   "codemirror_mode": {
    "name": "ipython",
    "version": 3
   },
   "file_extension": ".py",
   "mimetype": "text/x-python",
   "name": "python",
   "nbconvert_exporter": "python",
   "pygments_lexer": "ipython3",
   "version": "3.6.13"
  },
  "orig_nbformat": 4
 },
 "nbformat": 4,
 "nbformat_minor": 2
}
