{
 "cells": [
  {
   "cell_type": "code",
   "execution_count": null,
   "metadata": {},
   "outputs": [],
   "source": [
    "import torch, torchvision\n",
    "from torch import nn"
   ]
  },
  {
   "cell_type": "markdown",
   "metadata": {},
   "source": [
    "L1Loss function is simply calculating the difference for each elements, then sum.\n",
    "![title](L1Loss.png)"
   ]
  },
  {
   "cell_type": "code",
   "execution_count": 17,
   "metadata": {},
   "outputs": [
    {
     "name": "stdout",
     "output_type": "stream",
     "text": [
      "tensor([[[[-0.9994,  0.0977, -1.5567,  0.6818,  0.4399],\n",
      "          [-0.5531,  1.4837,  0.4055,  0.0824,  0.5624],\n",
      "          [-0.2537,  1.0333, -0.9199, -0.9975, -0.1293]]]], requires_grad=True)\n",
      "tensor([[[[-0.1095, -1.4447,  0.8338, -1.6286, -0.5841],\n",
      "          [ 0.6921, -1.6061, -0.5715,  1.5353,  0.7396],\n",
      "          [ 1.2558,  0.0237, -1.3264,  1.8874,  1.0273]]]])\n",
      "tensor(1.4711, grad_fn=<L1LossBackward0>)\n"
     ]
    }
   ],
   "source": [
    "loss = nn.L1Loss()\n",
    "input = torch.randn((1, 1, 3, 5), requires_grad=True)\n",
    "target = torch.randn((1,1, 3, 5), requires_grad=False)\n",
    "print(input)\n",
    "print(target)\n",
    "output = loss(input, target)\n",
    "print(output)"
   ]
  },
  {
   "cell_type": "markdown",
   "metadata": {},
   "source": [
    "![title](MSELoss.png)"
   ]
  },
  {
   "cell_type": "code",
   "execution_count": 21,
   "metadata": {},
   "outputs": [
    {
     "name": "stdout",
     "output_type": "stream",
     "text": [
      "tensor([[[[ 0.0661,  0.6530,  0.6749, -0.9249,  0.2131],\n",
      "          [-0.0283,  1.7550, -0.7082,  0.4015,  1.1674],\n",
      "          [ 1.8761, -2.0933, -0.2760, -1.1823,  2.0525]]]], requires_grad=True)\n",
      "tensor([[[[ 4.9823e-01, -1.5457e-01,  6.2111e-01,  1.0212e+00, -1.1143e+00],\n",
      "          [-3.0439e+00,  7.8067e-01,  8.1989e-01, -4.6370e-01,  6.5458e-01],\n",
      "          [ 1.1171e+00, -2.6876e-01, -5.4060e-01, -1.8342e-01, -5.8550e-04]]]])\n",
      "tensor(1.9313, grad_fn=<MseLossBackward0>)\n"
     ]
    }
   ],
   "source": [
    "loss = nn.MSELoss()\n",
    "input = torch.randn((1, 1, 3, 5), requires_grad=True)\n",
    "target = torch.randn((1,1, 3, 5), requires_grad=False)\n",
    "print(input)\n",
    "print(target)\n",
    "output = loss(input, target)\n",
    "print(output)\n"
   ]
  },
  {
   "cell_type": "markdown",
   "metadata": {},
   "source": [
    "![title](CrossEntropyLoss.png)"
   ]
  },
  {
   "cell_type": "code",
   "execution_count": 24,
   "metadata": {},
   "outputs": [
    {
     "name": "stdout",
     "output_type": "stream",
     "text": [
      "tensor([[-0.0581, -1.0836,  0.3872, -1.1230,  0.7684],\n",
      "        [ 0.2302,  0.7379,  1.5415,  0.4326,  0.7875],\n",
      "        [-2.0927,  1.8935,  0.1923, -0.3023, -0.5047]], requires_grad=True)\n",
      "tensor([1, 1, 2])\n",
      "tensor(2.1687, grad_fn=<NllLossBackward0>)\n"
     ]
    }
   ],
   "source": [
    "# Example of target with class indices\n",
    "loss = nn.CrossEntropyLoss()\n",
    "input = torch.randn(3, 5, requires_grad=True)\n",
    "target = torch.empty(3, dtype=torch.long).random_(5)\n",
    "output = loss(input, target)\n",
    "output.backward()\n",
    "\n",
    "print(input)\n",
    "print(target)\n",
    "print(output)"
   ]
  },
  {
   "cell_type": "code",
   "execution_count": 25,
   "metadata": {},
   "outputs": [
    {
     "name": "stdout",
     "output_type": "stream",
     "text": [
      "tensor([[-0.9418,  0.9954, -0.9764, -0.0709, -1.9676],\n",
      "        [ 0.9393,  0.8574, -1.4145, -0.9547, -0.0051],\n",
      "        [ 0.6298,  0.0848, -0.1890,  1.1781,  0.9910]], requires_grad=True)\n",
      "tensor([[0.2293, 0.0312, 0.0355, 0.1382, 0.5658],\n",
      "        [0.0218, 0.1648, 0.3926, 0.3720, 0.0488],\n",
      "        [0.0806, 0.0376, 0.1159, 0.2068, 0.5591]])\n",
      "tensor(2.3096, grad_fn=<DivBackward1>)\n"
     ]
    }
   ],
   "source": [
    "# Example of target with class probabilities\n",
    "input = torch.randn(3, 5, requires_grad=True)\n",
    "target = torch.randn(3, 5).softmax(dim=1)\n",
    "output = loss(input, target)\n",
    "output.backward()\n",
    "\n",
    "print(input)\n",
    "print(target)\n",
    "print(output)"
   ]
  },
  {
   "cell_type": "markdown",
   "metadata": {},
   "source": [
    "See Other examples for better understanding how to use the loss function "
   ]
  }
 ],
 "metadata": {
  "interpreter": {
   "hash": "5bdb8ac3f2d9547dea6fa3bfa2ee8baa04424e0c758556039bba6af79e1d77ff"
  },
  "kernelspec": {
   "display_name": "Python 3.6.13 ('pytorch')",
   "language": "python",
   "name": "python3"
  },
  "language_info": {
   "codemirror_mode": {
    "name": "ipython",
    "version": 3
   },
   "file_extension": ".py",
   "mimetype": "text/x-python",
   "name": "python",
   "nbconvert_exporter": "python",
   "pygments_lexer": "ipython3",
   "version": "3.6.13"
  },
  "orig_nbformat": 4
 },
 "nbformat": 4,
 "nbformat_minor": 2
}
